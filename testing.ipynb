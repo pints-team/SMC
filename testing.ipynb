{
 "cells": [
  {
   "cell_type": "code",
   "execution_count": 8,
   "metadata": {
    "ExecuteTime": {
     "end_time": "2019-11-10T23:33:59.926774Z",
     "start_time": "2019-11-10T23:33:59.922856Z"
    }
   },
   "outputs": [],
   "source": [
    "import numpy as np\n",
    "import seaborn as sns\n",
    "from scipy.stats import norm\n",
    "import matplotlib.pyplot as plt\n",
    "plt.rcParams['figure.figsize'] = (17, 7)"
   ]
  },
  {
   "cell_type": "markdown",
   "metadata": {},
   "source": [
    "# Kalman\n",
    "x_n = a * x_n-1 + noise"
   ]
  },
  {
   "cell_type": "code",
   "execution_count": 12,
   "metadata": {
    "ExecuteTime": {
     "end_time": "2019-11-10T23:34:02.032946Z",
     "start_time": "2019-11-10T23:34:01.730319Z"
    }
   },
   "outputs": [
    {
     "data": {
      "image/png": "[encoded data removed]",
      "text/plain": [
       "<Figure size 1224x504 with 1 Axes>"
      ]
     },
     "metadata": {
      "needs_background": "light"
     },
     "output_type": "display_data"
    }
   ],
   "source": [
    "from pykalman import KalmanFilter\n",
    "import time\n",
    "\n",
    "measurements = np.asarray([(399,293),(403,299),(409,308),(416,315),(418,318),(420,323),(429,326),(423,328),(429,334),(431,337),(433,342),(434,352),(434,349),(433,350),(431,350),(430,349),(428,347),(427,345),(425,341),(429,338),(431,328),(410,313),(406,306),(402,299),(397,291),(391,294),(376,270),(372,272),(351,248),(336,244),(327,236),(307,220)])\n",
    "\n",
    "initial_state_mean = [measurements[0, 0],\n",
    "                      0,\n",
    "                      measurements[0, 1],\n",
    "                      0]\n",
    "\n",
    "transition_matrix = [[1, 1, 0, 0],\n",
    "                     [0, 1, 0, 0],\n",
    "                     [0, 0, 1, 1],\n",
    "                     [0, 0, 0, 1]]\n",
    "\n",
    "observation_matrix = [[1, 0, 0, 0],\n",
    "                      [0, 0, 1, 0]]\n",
    "\n",
    "kf1 = KalmanFilter(transition_matrices = transition_matrix,\n",
    "                  observation_matrices = observation_matrix,\n",
    "                  initial_state_mean = initial_state_mean)\n",
    "\n",
    "kf1 = kf1.em(measurements, n_iter=5)\n",
    "(smoothed_state_means, smoothed_state_covariances) = kf1.smooth(measurements)\n",
    "\n",
    "plt.figure(1)\n",
    "times = range(measurements.shape[0])\n",
    "plt.plot(times, measurements[:, 0], 'bo',\n",
    "         times, measurements[:, 1], 'ro',\n",
    "         times, smoothed_state_means[:, 0], 'b--',\n",
    "         times, smoothed_state_means[:, 2], 'r--',)\n",
    "plt.show()"
   ]
  },
  {
   "cell_type": "markdown",
   "metadata": {},
   "source": [
    "# An attempt at creating a Particle Filter"
   ]
  },
  {
   "cell_type": "code",
   "execution_count": 121,
   "metadata": {
    "ExecuteTime": {
     "end_time": "2019-11-11T17:06:59.605722Z",
     "start_time": "2019-11-11T17:06:59.593356Z"
    }
   },
   "outputs": [],
   "source": [
    "import numpy as np\n",
    "class ParticleFilter:\n",
    "    def __init__(self, N, ranges):\n",
    "        self.N = N\n",
    "        self.ranges = ranges\n",
    "        self.particles = self.uniform_particles(ranges, N)\n",
    "        self.weights = np.ones(N) / N\n",
    "    \n",
    "    def uniform_particles(self, ranges, N):\n",
    "        # Returns list of uniform particles\n",
    "        particles = np.empty((N, len(ranges)))\n",
    "        for i, (start, end) in enumerate(ranges):\n",
    "            particles[:, i] = np.random.uniform(start, end, size=N)\n",
    "        return particles\n",
    "    \n",
    "    def predict(self, step):\n",
    "        # step :: particle -> new_particle\n",
    "        self.particles = np.array([step(particle) for particle in self.particles])\n",
    "    \n",
    "    def update(self, score):\n",
    "        # score :: particle -> score\n",
    "        scores = np.array([score(particle) for particle in self.particles])\n",
    "        self.weights *= scores\n",
    "        self.weights += 1.e-100 # avoid round off to zero\n",
    "        self.weights /= sum(weights) # normalize\n",
    "    \n",
    "    def estimate(self, evaluate):\n",
    "        # evaluate :: particle -> result\n",
    "        results = np.array([evaluate(particle) for particle in self.particles])\n",
    "        mean = np.average(results, weights=self.weights, axis=0)\n",
    "        var = np.average((results - mean)**2, weights=self.weights, axis=0)\n",
    "        return mean, var\n",
    "    \n",
    "    def resample(self, resampling_algo):\n",
    "        self.particles, self.weights = resampling_algo(self.particles, self.weights)\n",
    "    \n",
    "    def neff(self):\n",
    "        return 1. / np.sum(np.square(weights))\n",
    "    \n",
    "    def plot2D(self):\n",
    "        sns.scatterplot(x=self.particles[:, 0], y=self.particles[:, 1])\n",
    "    \n",
    "    \n",
    "    # HELPER FUNCTIONS\n",
    "    def gaussian(self, x):\n",
    "        return norm.pdf(2, loc=0, scale=1)"
   ]
  },
  {
   "cell_type": "code",
   "execution_count": 113,
   "metadata": {
    "ExecuteTime": {
     "end_time": "2019-11-11T17:05:06.648245Z",
     "start_time": "2019-11-11T17:05:06.644654Z"
    }
   },
   "outputs": [],
   "source": [
    "pf = ParticleFilter(3, [(0, 1000), (0, 1000)])"
   ]
  },
  {
   "cell_type": "code",
   "execution_count": 114,
   "metadata": {
    "ExecuteTime": {
     "end_time": "2019-11-11T17:05:06.780444Z",
     "start_time": "2019-11-11T17:05:06.776625Z"
    }
   },
   "outputs": [
    {
     "data": {
      "text/plain": [
       "array([[568.37560279, 822.37881824],\n",
       "       [357.84188262, 579.59291091],\n",
       "       [427.42196032, 173.85529601]])"
      ]
     },
     "execution_count": 114,
     "metadata": {},
     "output_type": "execute_result"
    }
   ],
   "source": [
    "pf.particles"
   ]
  },
  {
   "cell_type": "code",
   "execution_count": 115,
   "metadata": {
    "ExecuteTime": {
     "end_time": "2019-11-11T17:05:06.944991Z",
     "start_time": "2019-11-11T17:05:06.941503Z"
    }
   },
   "outputs": [],
   "source": [
    "def step(particle):\n",
    "    return particle[0]+1, particle[1]+1\n",
    "\n",
    "def evaluate(particle):\n",
    "    return particle"
   ]
  },
  {
   "cell_type": "code",
   "execution_count": 116,
   "metadata": {
    "ExecuteTime": {
     "end_time": "2019-11-11T17:05:07.077281Z",
     "start_time": "2019-11-11T17:05:07.074409Z"
    }
   },
   "outputs": [],
   "source": [
    "pf.predict(step)"
   ]
  },
  {
   "cell_type": "code",
   "execution_count": 117,
   "metadata": {
    "ExecuteTime": {
     "end_time": "2019-11-11T17:05:07.242772Z",
     "start_time": "2019-11-11T17:05:07.238543Z"
    }
   },
   "outputs": [
    {
     "data": {
      "text/plain": [
       "array([[569.37560279, 823.37881824],\n",
       "       [358.84188262, 580.59291091],\n",
       "       [428.42196032, 174.85529601]])"
      ]
     },
     "execution_count": 117,
     "metadata": {},
     "output_type": "execute_result"
    }
   ],
   "source": [
    "pf.particles"
   ]
  },
  {
   "cell_type": "code",
   "execution_count": null,
   "metadata": {},
   "outputs": [],
   "source": []
  }
 ],
 "metadata": {
  "kernelspec": {
   "display_name": "Python 3",
   "language": "python",
   "name": "python3"
  },
  "language_info": {
   "codemirror_mode": {
    "name": "ipython",
    "version": 3
   },
   "file_extension": ".py",
   "mimetype": "text/x-python",
   "name": "python",
   "nbconvert_exporter": "python",
   "pygments_lexer": "ipython3",
   "version": "3.7.4"
  }
 },
 "nbformat": 4,
 "nbformat_minor": 2
}
