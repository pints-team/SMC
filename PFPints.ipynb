{
 "cells": [
  {
   "cell_type": "code",
   "execution_count": 7,
   "metadata": {
    "ExecuteTime": {
     "end_time": "2020-02-25T22:49:24.434729Z",
     "start_time": "2020-02-25T22:49:24.404608Z"
    }
   },
   "outputs": [
    {
     "name": "stdout",
     "output_type": "stream",
     "text": [
      "The autoreload extension is already loaded. To reload it, use:\n",
      "  %reload_ext autoreload\n"
     ]
    }
   ],
   "source": [
    "%load_ext autoreload\n",
    "%autoreload 2\n",
    "\n",
    "import numpy as np\n",
    "import pints\n",
    "import pints.toy as toy\n",
    "import matplotlib.pyplot as plt\n",
    "import seaborn as sns\n",
    "from multiprocessing import Pool\n",
    "from PFClasses import SimpleModel, ParticleFilter, Kalman, Event, StochasticModelTauLeaping\n",
    "plt.rcParams['figure.figsize'] = (17, 7)"
   ]
  },
  {
   "cell_type": "code",
   "execution_count": 148,
   "metadata": {
    "ExecuteTime": {
     "end_time": "2020-02-26T10:39:07.231204Z",
     "start_time": "2020-02-26T10:39:07.202401Z"
    }
   },
   "outputs": [],
   "source": [
    "class myPintsLikelihood(pints.ProblemLogLikelihood):\n",
    "    def __init__(self, measurements, N):\n",
    "        self.measurements = measurements\n",
    "        self.x0 = measurements[0]\n",
    "        self._n_parameters = 3\n",
    "        self.N = N\n",
    "    \n",
    "    def __call__(self, x):\n",
    "        b, k, r = x\n",
    "        \n",
    "        birth = Event(\n",
    "            rate_calculator=lambda x: max(0, x[0] * b * (1 - float(x[0])/k)),\n",
    "            change_function=lambda x: [x[0] + 1]\n",
    "            )\n",
    "        \n",
    "        model = StochasticModelTauLeaping(x_0=np.array([100.]), events=[birth], step_size=1, R=np.array([[r]]))\n",
    "        \n",
    "        pf = ParticleFilter(model=model, N=self.N, measurements=self.measurements,\n",
    "                           prior_cov_matrix=np.array([[50.]]))\n",
    "        \n",
    "        return pf.run()[2]"
   ]
  },
  {
   "cell_type": "code",
   "execution_count": 145,
   "metadata": {
    "ExecuteTime": {
     "end_time": "2020-02-26T10:38:08.488721Z",
     "start_time": "2020-02-26T10:38:08.464276Z"
    }
   },
   "outputs": [],
   "source": [
    "b = .01\n",
    "K = 1000\n",
    "sigma = 50\n",
    "x_0 = np.array([100.])\n",
    "times = range(10)\n",
    "\n",
    "real_birth = Event(\n",
    "    rate_calculator=lambda x: max(0, x[0] * b * (1 - float(x[0])/K)),\n",
    "    change_function=lambda x: [x[0] + 1]\n",
    "    )\n",
    "real_model = StochasticModelTauLeaping(x_0, events=[real_birth], step_size=1, \n",
    "                                   R=np.array([[sigma]]))\n",
    "\n",
    "real_measurements = [real_model.measure(t) for t in times]"
   ]
  },
  {
   "cell_type": "code",
   "execution_count": 149,
   "metadata": {
    "ExecuteTime": {
     "end_time": "2020-02-26T10:39:13.120613Z",
     "start_time": "2020-02-26T10:39:13.094364Z"
    }
   },
   "outputs": [],
   "source": [
    "import time"
   ]
  },
  {
   "cell_type": "code",
   "execution_count": 154,
   "metadata": {
    "ExecuteTime": {
     "end_time": "2020-02-26T10:41:17.788883Z",
     "start_time": "2020-02-26T10:41:17.758396Z"
    }
   },
   "outputs": [],
   "source": [
    "def test(n, t):\n",
    "    b = .01\n",
    "    K = 1000\n",
    "    sigma = 50\n",
    "    x_0 = np.array([100.])\n",
    "    times = range(t)\n",
    "\n",
    "    real_birth = Event(\n",
    "        rate_calculator=lambda x: max(0, x[0] * b * (1 - float(x[0])/K)),\n",
    "        change_function=lambda x: [x[0] + 1]\n",
    "        )\n",
    "    real_model = StochasticModelTauLeaping(x_0, events=[real_birth], step_size=1, \n",
    "                                       R=np.array([[sigma]]))\n",
    "\n",
    "    real_measurements = [real_model.measure(t) for t in times]\n",
    "    \n",
    "    loglikelihood = myPintsLikelihood(real_measurements, n)\n",
    "    y0 = np.array([.0025, 800, 45])\n",
    "    boundaries_3d = pints.RectangularBoundaries([0, 500, 30], [.05, 1200, 55])\n",
    "\n",
    "    opt = pints.OptimisationController(loglikelihood, y0, boundaries=boundaries_3d, method=pints.XNES)\n",
    "    opt.set_log_to_screen(False)\n",
    "    \n",
    "    start = time.time()\n",
    "    y1, g1 = opt.run()\n",
    "    end = time.time()\n",
    "    \n",
    "    print(f\"n={n}, t={t} -> {end-start}s\")"
   ]
  },
  {
   "cell_type": "code",
   "execution_count": 157,
   "metadata": {
    "ExecuteTime": {
     "end_time": "2020-02-26T11:05:02.452622Z",
     "start_time": "2020-02-26T10:43:06.150608Z"
    }
   },
   "outputs": [
    {
     "name": "stdout",
     "output_type": "stream",
     "text": [
      "n=1, t=10 -> 4.419275760650635s\n",
      "n=1, t=30 -> 15.867534875869751s\n",
      "n=1, t=50 -> 62.929118156433105s\n",
      "n=1, t=100 -> 65.47749400138855s\n",
      "n=3, t=10 -> 13.753007173538208s\n",
      "n=3, t=30 -> 31.64974069595337s\n",
      "n=3, t=50 -> 84.65281200408936s\n",
      "n=3, t=100 -> 202.90730118751526s\n",
      "n=5, t=10 -> 10.278412818908691s\n",
      "n=5, t=30 -> 34.54434323310852s\n",
      "n=5, t=50 -> 134.88819289207458s\n",
      "n=5, t=100 -> 134.79483914375305s\n",
      "n=10, t=10 -> 51.29954814910889s\n",
      "n=10, t=30 -> 86.66176009178162s\n",
      "n=10, t=50 -> 174.16508102416992s\n",
      "n=10, t=100 -> 207.8514528274536s\n"
     ]
    }
   ],
   "source": [
    "for n in [1, 3, 5, 10]:\n",
    "    for t in [10, 30, 50, 100]:\n",
    "        test(n, t)"
   ]
  },
  {
   "cell_type": "code",
   "execution_count": null,
   "metadata": {},
   "outputs": [],
   "source": []
  },
  {
   "cell_type": "code",
   "execution_count": null,
   "metadata": {},
   "outputs": [],
   "source": []
  },
  {
   "cell_type": "code",
   "execution_count": null,
   "metadata": {},
   "outputs": [],
   "source": []
  },
  {
   "cell_type": "markdown",
   "metadata": {},
   "source": [
    "# 5 particles, 100 steps"
   ]
  },
  {
   "cell_type": "code",
   "execution_count": 146,
   "metadata": {
    "ExecuteTime": {
     "end_time": "2020-02-26T10:38:14.752806Z",
     "start_time": "2020-02-26T10:38:14.725362Z"
    }
   },
   "outputs": [],
   "source": [
    "loglikelihood = myPintsLikelihood(real_measurements)\n",
    "y0 = np.array([.0025, 800, 45])\n",
    "boundaries_3d = pints.RectangularBoundaries([0, 500, 30], [.05, 1200, 55])\n",
    "\n",
    "opt = pints.OptimisationController(loglikelihood, y0, boundaries=boundaries_3d, method=pints.XNES)\n",
    "opt.set_log_to_screen(False)\n",
    "y1, g1 = opt.run()\n",
    "print('Estimated parameters:')\n",
    "print(y1)"
   ]
  },
  {
   "cell_type": "markdown",
   "metadata": {},
   "source": [
    "# 1 particle, 30 steps"
   ]
  },
  {
   "cell_type": "code",
   "execution_count": 124,
   "metadata": {
    "ExecuteTime": {
     "end_time": "2020-02-26T10:25:44.427281Z",
     "start_time": "2020-02-26T10:25:44.400598Z"
    },
    "deletable": false,
    "editable": false,
    "run_control": {
     "frozen": true
    }
   },
   "outputs": [],
   "source": [
    "loglikelihood = myPintsLikelihood(real_measurements)"
   ]
  },
  {
   "cell_type": "code",
   "execution_count": 125,
   "metadata": {
    "ExecuteTime": {
     "end_time": "2020-02-26T10:26:19.693626Z",
     "start_time": "2020-02-26T10:25:46.579499Z"
    },
    "deletable": false,
    "editable": false,
    "run_control": {
     "frozen": true
    }
   },
   "outputs": [
    {
     "name": "stdout",
     "output_type": "stream",
     "text": [
      "Estimated parameters:\n",
      "[1.31338748e-02 1.07759008e+03 5.30010463e+01]\n"
     ]
    }
   ],
   "source": [
    "y0 = np.array([.0025, 800, 45])\n",
    "boundaries_3d = pints.RectangularBoundaries([0, 500, 30], [.05, 1200, 55])\n",
    "\n",
    "opt = pints.OptimisationController(loglikelihood, y0, boundaries=boundaries_3d, method=pints.XNES)\n",
    "opt.set_log_to_screen(False)\n",
    "y1, g1 = opt.run()\n",
    "print('Estimated parameters:')\n",
    "print(y1)"
   ]
  },
  {
   "cell_type": "markdown",
   "metadata": {
    "deletable": false,
    "editable": false,
    "run_control": {
     "frozen": true
    }
   },
   "source": [
    "# 1 particle, 100 steps"
   ]
  },
  {
   "cell_type": "code",
   "execution_count": 110,
   "metadata": {
    "ExecuteTime": {
     "end_time": "2020-02-26T00:14:00.043935Z",
     "start_time": "2020-02-26T00:12:49.823813Z"
    },
    "deletable": false,
    "editable": false,
    "run_control": {
     "frozen": true
    }
   },
   "outputs": [
    {
     "name": "stdout",
     "output_type": "stream",
     "text": [
      "Estimated parameters:\n",
      "[9.13291499e-03 1.12138499e+03 4.91663485e+01]\n"
     ]
    }
   ],
   "source": [
    "loglikelihood = myPintsLikelihood(real_measurements)\n",
    "y0 = np.array([.0025, 800, 45])\n",
    "boundaries_3d = pints.RectangularBoundaries([0, 500, 30], [.05, 1200, 55])\n",
    "\n",
    "opt = pints.OptimisationController(loglikelihood, y0, boundaries=boundaries_3d, method=pints.XNES)\n",
    "opt.set_log_to_screen(False)\n",
    "y1, g1 = opt.run()\n",
    "print('Estimated parameters:')\n",
    "print(y1)"
   ]
  },
  {
   "cell_type": "markdown",
   "metadata": {
    "ExecuteTime": {
     "end_time": "2020-02-25T22:50:47.781354Z",
     "start_time": "2020-02-25T22:50:47.758981Z"
    }
   },
   "source": [
    "# 5 particles, 30 steps"
   ]
  },
  {
   "cell_type": "code",
   "execution_count": 105,
   "metadata": {
    "ExecuteTime": {
     "end_time": "2020-02-26T00:03:41.405094Z",
     "start_time": "2020-02-26T00:02:27.737698Z"
    },
    "deletable": false,
    "editable": false,
    "run_control": {
     "frozen": true
    }
   },
   "outputs": [
    {
     "name": "stdout",
     "output_type": "stream",
     "text": [
      "Estimated parameters:\n",
      "[1.04893354e-02 9.63881813e+02 5.48382507e+01]\n"
     ]
    }
   ],
   "source": [
    "loglikelihood = myPintsLikelihood(real_measurements)\n",
    "y0 = np.array([.0025, 800, 45])\n",
    "boundaries_3d = pints.RectangularBoundaries([0, 500, 30], [.05, 1200, 55])\n",
    "\n",
    "opt = pints.OptimisationController(loglikelihood, y0, boundaries=boundaries_3d, method=pints.XNES)\n",
    "opt.set_log_to_screen(False)\n",
    "y1, g1 = opt.run()\n",
    "print('Estimated parameters:')\n",
    "print(y1)"
   ]
  },
  {
   "cell_type": "markdown",
   "metadata": {
    "deletable": false,
    "editable": false,
    "run_control": {
     "frozen": true
    }
   },
   "source": [
    "# 10 particles, 30 steps"
   ]
  },
  {
   "cell_type": "code",
   "execution_count": 107,
   "metadata": {
    "ExecuteTime": {
     "end_time": "2020-02-26T00:11:33.950298Z",
     "start_time": "2020-02-26T00:05:13.927796Z"
    },
    "deletable": false,
    "editable": false,
    "run_control": {
     "frozen": true
    }
   },
   "outputs": [
    {
     "name": "stdout",
     "output_type": "stream",
     "text": [
      "Estimated parameters:\n",
      "[1.16765204e-02 9.55850060e+02 5.45751339e+01]\n"
     ]
    }
   ],
   "source": [
    "loglikelihood = myPintsLikelihood(real_measurements)\n",
    "y0 = np.array([.0025, 800, 45])\n",
    "boundaries_3d = pints.RectangularBoundaries([0, 500, 30], [.05, 1200, 55])\n",
    "\n",
    "opt = pints.OptimisationController(loglikelihood, y0, boundaries=boundaries_3d, method=pints.XNES)\n",
    "opt.set_log_to_screen(False)\n",
    "y1, g1 = opt.run()\n",
    "print('Estimated parameters:')\n",
    "print(y1)"
   ]
  },
  {
   "cell_type": "markdown",
   "metadata": {},
   "source": [
    "# 3 particles, 70 steps"
   ]
  },
  {
   "cell_type": "code",
   "execution_count": 113,
   "metadata": {
    "ExecuteTime": {
     "end_time": "2020-02-26T10:03:37.916047Z",
     "start_time": "2020-02-26T10:01:31.513296Z"
    },
    "deletable": false,
    "editable": false,
    "run_control": {
     "frozen": true
    }
   },
   "outputs": [
    {
     "name": "stdout",
     "output_type": "stream",
     "text": [
      "Estimated parameters:\n",
      "[8.58496630e-03 7.91919106e+02 4.84775920e+01]\n"
     ]
    }
   ],
   "source": [
    "loglikelihood = myPintsLikelihood(real_measurements)\n",
    "y0 = np.array([.0025, 800, 45])\n",
    "boundaries_3d = pints.RectangularBoundaries([0, 500, 30], [.05, 1200, 55])\n",
    "\n",
    "opt = pints.OptimisationController(loglikelihood, y0, boundaries=boundaries_3d, method=pints.XNES)\n",
    "opt.set_log_to_screen(False)\n",
    "y1, g1 = opt.run()\n",
    "print('Estimated parameters:')\n",
    "print(y1)"
   ]
  },
  {
   "cell_type": "markdown",
   "metadata": {
    "deletable": false,
    "editable": false,
    "run_control": {
     "frozen": true
    }
   },
   "source": [
    "# 3 particles, 100 steps"
   ]
  },
  {
   "cell_type": "code",
   "execution_count": 115,
   "metadata": {
    "ExecuteTime": {
     "end_time": "2020-02-26T10:09:53.196403Z",
     "start_time": "2020-02-26T10:04:31.654126Z"
    },
    "deletable": false,
    "editable": false,
    "run_control": {
     "frozen": true
    }
   },
   "outputs": [
    {
     "name": "stdout",
     "output_type": "stream",
     "text": [
      "Estimated parameters:\n",
      "[1.00655340e-02 9.96240604e+02 4.71077753e+01]\n"
     ]
    }
   ],
   "source": [
    "loglikelihood = myPintsLikelihood(real_measurements)\n",
    "y0 = np.array([.0025, 800, 45])\n",
    "boundaries_3d = pints.RectangularBoundaries([0, 500, 30], [.05, 1200, 55])\n",
    "\n",
    "opt = pints.OptimisationController(loglikelihood, y0, boundaries=boundaries_3d, method=pints.XNES)\n",
    "opt.set_log_to_screen(False)\n",
    "y1, g1 = opt.run()\n",
    "print('Estimated parameters:')\n",
    "print(y1)"
   ]
  },
  {
   "cell_type": "markdown",
   "metadata": {},
   "source": [
    "# 1 particle, 70 steps"
   ]
  },
  {
   "cell_type": "code",
   "execution_count": 118,
   "metadata": {
    "ExecuteTime": {
     "end_time": "2020-02-26T10:24:12.389777Z",
     "start_time": "2020-02-26T10:22:56.866590Z"
    },
    "deletable": false,
    "editable": false,
    "run_control": {
     "frozen": true
    }
   },
   "outputs": [
    {
     "name": "stdout",
     "output_type": "stream",
     "text": [
      "Estimated parameters:\n",
      "[8.91025990e-03 7.74046291e+02 5.32435102e+01]\n"
     ]
    }
   ],
   "source": [
    "loglikelihood = myPintsLikelihood(real_measurements)\n",
    "y0 = np.array([.0025, 800, 45])\n",
    "boundaries_3d = pints.RectangularBoundaries([0, 500, 30], [.05, 1200, 55])\n",
    "\n",
    "opt = pints.OptimisationController(loglikelihood, y0, boundaries=boundaries_3d, method=pints.XNES)\n",
    "opt.set_log_to_screen(False)\n",
    "y1, g1 = opt.run()\n",
    "print('Estimated parameters:')\n",
    "print(y1)"
   ]
  },
  {
   "cell_type": "markdown",
   "metadata": {},
   "source": [
    "# 3, 30"
   ]
  },
  {
   "cell_type": "code",
   "execution_count": 121,
   "metadata": {
    "ExecuteTime": {
     "end_time": "2020-02-26T10:25:16.504436Z",
     "start_time": "2020-02-26T10:24:46.882996Z"
    },
    "deletable": false,
    "editable": false,
    "run_control": {
     "frozen": true
    }
   },
   "outputs": [
    {
     "name": "stdout",
     "output_type": "stream",
     "text": [
      "Estimated parameters:\n",
      "[1.06359634e-02 5.22929501e+02 3.27272124e+01]\n"
     ]
    }
   ],
   "source": [
    "loglikelihood = myPintsLikelihood(real_measurements)\n",
    "y0 = np.array([.0025, 800, 45])\n",
    "boundaries_3d = pints.RectangularBoundaries([0, 500, 30], [.05, 1200, 55])\n",
    "\n",
    "opt = pints.OptimisationController(loglikelihood, y0, boundaries=boundaries_3d, method=pints.XNES)\n",
    "opt.set_log_to_screen(False)\n",
    "y1, g1 = opt.run()\n",
    "print('Estimated parameters:')\n",
    "print(y1)"
   ]
  },
  {
   "cell_type": "markdown",
   "metadata": {},
   "source": [
    "# 5 70"
   ]
  },
  {
   "cell_type": "code",
   "execution_count": 128,
   "metadata": {
    "ExecuteTime": {
     "end_time": "2020-02-26T10:29:22.480311Z",
     "start_time": "2020-02-26T10:26:50.245003Z"
    },
    "deletable": false,
    "editable": false,
    "run_control": {
     "frozen": true
    }
   },
   "outputs": [
    {
     "name": "stdout",
     "output_type": "stream",
     "text": [
      "Estimated parameters:\n",
      "[1.18327354e-02 8.83117739e+02 4.22091793e+01]\n"
     ]
    }
   ],
   "source": [
    "loglikelihood = myPintsLikelihood(real_measurements)\n",
    "y0 = np.array([.0025, 800, 45])\n",
    "boundaries_3d = pints.RectangularBoundaries([0, 500, 30], [.05, 1200, 55])\n",
    "\n",
    "opt = pints.OptimisationController(loglikelihood, y0, boundaries=boundaries_3d, method=pints.XNES)\n",
    "opt.set_log_to_screen(False)\n",
    "y1, g1 = opt.run()\n",
    "print('Estimated parameters:')\n",
    "print(y1)"
   ]
  },
  {
   "cell_type": "markdown",
   "metadata": {},
   "source": [
    "# 10 70"
   ]
  },
  {
   "cell_type": "code",
   "execution_count": 131,
   "metadata": {
    "ExecuteTime": {
     "end_time": "2020-02-26T10:32:56.830788Z",
     "start_time": "2020-02-26T10:30:23.072909Z"
    }
   },
   "outputs": [
    {
     "name": "stdout",
     "output_type": "stream",
     "text": [
      "Estimated parameters:\n",
      "[9.00083923e-03 6.38142167e+02 4.85177839e+01]\n"
     ]
    }
   ],
   "source": [
    "loglikelihood = myPintsLikelihood(real_measurements)\n",
    "y0 = np.array([.0025, 800, 45])\n",
    "boundaries_3d = pints.RectangularBoundaries([0, 500, 30], [.05, 1200, 55])\n",
    "\n",
    "opt = pints.OptimisationController(loglikelihood, y0, boundaries=boundaries_3d, method=pints.XNES)\n",
    "opt.set_log_to_screen(False)\n",
    "y1, g1 = opt.run()\n",
    "print('Estimated parameters:')\n",
    "print(y1)"
   ]
  },
  {
   "cell_type": "code",
   "execution_count": null,
   "metadata": {},
   "outputs": [],
   "source": []
  },
  {
   "cell_type": "code",
   "execution_count": null,
   "metadata": {},
   "outputs": [],
   "source": []
  },
  {
   "cell_type": "code",
   "execution_count": null,
   "metadata": {},
   "outputs": [],
   "source": []
  },
  {
   "cell_type": "code",
   "execution_count": 53,
   "metadata": {
    "ExecuteTime": {
     "end_time": "2020-02-25T22:58:18.675210Z",
     "start_time": "2020-02-25T22:58:18.647529Z"
    }
   },
   "outputs": [],
   "source": [
    "def check(llfunction):\n",
    "    y0 = np.array([.5, 200 ,1])\n",
    "    boundaries_3d = pints.RectangularBoundaries([0, 5, 1e-3], [1, 500, 10])\n",
    "\n",
    "    opt = pints.OptimisationController(llfunction, y0, boundaries=boundaries_3d, method=pints.XNES)\n",
    "    opt.set_log_to_screen(False)\n",
    "    y1, g1 = opt.run()\n",
    "    print('Estimated parameters:')\n",
    "    print(y1)"
   ]
  }
 ],
 "metadata": {
  "kernelspec": {
   "display_name": "Python 3",
   "language": "python",
   "name": "python3"
  },
  "language_info": {
   "codemirror_mode": {
    "name": "ipython",
    "version": 3
   },
   "file_extension": ".py",
   "mimetype": "text/x-python",
   "name": "python",
   "nbconvert_exporter": "python",
   "pygments_lexer": "ipython3",
   "version": "3.7.4"
  },
  "varInspector": {
   "cols": {
    "lenName": 16,
    "lenType": 16,
    "lenVar": 40
   },
   "kernels_config": {
    "python": {
     "delete_cmd_postfix": "",
     "delete_cmd_prefix": "del ",
     "library": "var_list.py",
     "varRefreshCmd": "print(var_dic_list())"
    },
    "r": {
     "delete_cmd_postfix": ") ",
     "delete_cmd_prefix": "rm(",
     "library": "var_list.r",
     "varRefreshCmd": "cat(var_dic_list()) "
    }
   },
   "types_to_exclude": [
    "module",
    "function",
    "builtin_function_or_method",
    "instance",
    "_Feature"
   ],
   "window_display": false
  }
 },
 "nbformat": 4,
 "nbformat_minor": 2
}
